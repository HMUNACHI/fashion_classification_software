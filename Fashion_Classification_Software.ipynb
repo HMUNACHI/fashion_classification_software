{
  "nbformat": 4,
  "nbformat_minor": 0,
  "metadata": {
    "colab": {
      "name": "Fashion Classification Software.ipynb",
      "provenance": [],
      "collapsed_sections": [],
      "include_colab_link": true
    },
    "kernelspec": {
      "name": "python3",
      "display_name": "Python 3"
    },
    "accelerator": "GPU"
  },
  "cells": [
    {
      "cell_type": "markdown",
      "metadata": {
        "id": "view-in-github",
        "colab_type": "text"
      },
      "source": [
        "<a href=\"https://colab.research.google.com/github/HMUNACHI/fashion_classification_software/blob/master/Fashion_Classification_Software.ipynb\" target=\"_parent\"><img src=\"https://colab.research.google.com/assets/colab-badge.svg\" alt=\"Open In Colab\"/></a>"
      ]
    },
    {
      "cell_type": "code",
      "metadata": {
        "id": "MexA8EtI31X4",
        "colab_type": "code",
        "colab": {}
      },
      "source": [
        "# this installs the helper function, then restart the runtime to activate\n",
        "!wget -c https://raw.githubusercontent.com/udacity/deep-learning-v2-pytorch/master/intro-to-pytorch/helper.py"
      ],
      "execution_count": 0,
      "outputs": []
    },
    {
      "cell_type": "code",
      "metadata": {
        "id": "Qxf6xFD2NnYi",
        "colab_type": "code",
        "colab": {
          "base_uri": "https://localhost:8080/",
          "height": 102
        },
        "outputId": "5ca35bca-9703-4686-a6e9-fa2e68643760"
      },
      "source": [
        "# imports the dependencies\n",
        "%matplotlib inline\n",
        "import helper\n",
        "from __future__ import print_function\n",
        "import torch\n",
        "from torch import nn\n",
        "import torch.nn.functional as F\n",
        "from torchvision import datasets, transforms\n",
        "from torch import optim\n",
        "\n",
        "# this would transform the data to tensors and normalise the data\n",
        "transform = transforms.Compose([transforms.ToTensor(), \n",
        "                                transforms.Normalize((0.5,),(0.5,))\n",
        "                                ])\n",
        "\n",
        "# loading the dataset from MNIST\n",
        "trainset = datasets.FashionMNIST(\n",
        "                          root = './data/FashionMNIST',\n",
        "                          download = True, \n",
        "                          train = True, \n",
        "                          transform = transform)\n",
        "\n",
        "# shuffles and loads the data in batches of 64\n",
        "trainloader = torch.utils.data.DataLoader(trainset, \n",
        "                                          batch_size = 64, \n",
        "                                          shuffle = True)\n",
        "# defines the model\n",
        "model = nn.Sequential(nn.Linear(784, 256),\n",
        "                     nn.ReLU(),\n",
        "                     nn.Linear(256, 128),\n",
        "                     nn.ReLU(),\n",
        "                     nn.Linear(128, 64),\n",
        "                     nn.ReLU(),\n",
        "                     nn.Linear(64, 10),\n",
        "                     nn.LogSoftmax(dim=1))\n",
        "\n",
        "# sets the criterion, optimiser and epochs\n",
        "criterion = nn.NLLLoss()\n",
        "optimizer = optim.Adam(model.parameters(), lr = 0.003)\n",
        "epochs = 5\n",
        "\n",
        "\n",
        "# training begins\n",
        "for e in range(epochs):\n",
        "    running_loss = 0\n",
        "\n",
        "    for images, labels in trainloader: \n",
        "\n",
        "        # flattens the images to a one dimensional array\n",
        "        images = images.view(images.shape[0], -1)\n",
        "\n",
        "        # clears the gradients\n",
        "        optimizer.zero_grad()\n",
        "\n",
        "        # forward pass\n",
        "        output = model.forward(images)\n",
        "        \n",
        "        # calculate the loss\n",
        "        loss = criterion(output, labels)\n",
        "        \n",
        "        # back propagation\n",
        "        loss.backward()\n",
        "        \n",
        "        #adjust weights\n",
        "        optimizer.step()\n",
        "        \n",
        "        # updates the running loss\n",
        "        running_loss += loss.item()\n",
        "    \n",
        "    # prints the running loss as the model is trained\n",
        "    else: print(f\"Training Loss: \", {running_loss/len(trainloader)})\n"
      ],
      "execution_count": 8,
      "outputs": [
        {
          "output_type": "stream",
          "text": [
            "Training Loss:  {0.5171851373907091}\n",
            "Training Loss:  {0.38809302627150694}\n",
            "Training Loss:  {0.35783261583367393}\n",
            "Training Loss:  {0.3360273748842765}\n",
            "Training Loss:  {0.31900056021045775}\n"
          ],
          "name": "stdout"
        }
      ]
    },
    {
      "cell_type": "code",
      "metadata": {
        "id": "CExh55LP7kTT",
        "colab_type": "code",
        "colab": {
          "base_uri": "https://localhost:8080/",
          "height": 253
        },
        "outputId": "55fc50bd-1197-4a9e-df1f-50620ad06e41"
      },
      "source": [
        "# testing how well the model predicts mumbers\n",
        "# 0\tT-shirt/top\n",
        "# 1\tTrouser\n",
        "# 2\tPullover\n",
        "# 3\tDress\n",
        "# 4\tCoat\n",
        "# 5\tSandal\n",
        "# 6\tShirt\n",
        "# 7\tSneaker\n",
        "# 8\tBag\n",
        "# 9\tAnkle boot\n",
        "\n",
        "images, labels = next(iter(trainloader))\n",
        "img = images[0].view(1,784)\n",
        "\n",
        "with torch.no_grad():\n",
        "    logits = model.forward(img)\n",
        "\n",
        "ps = F.softmax(logits,dim=1)\n",
        "helper.view_classify(img.view(1,28,28), ps)"
      ],
      "execution_count": 10,
      "outputs": [
        {
          "output_type": "display_data",
          "data": {
            "image/png": "[encoded data removed]",
            "text/plain": [
              "<Figure size 432x648 with 2 Axes>"
            ]
          },
          "metadata": {
            "tags": []
          }
        }
      ]
    }
  ]
}